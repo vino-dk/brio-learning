{
 "cells": [
  {
   "cell_type": "markdown",
   "metadata": {},
   "source": [
    "# Solving Brio Labyrinth with a Neural Network\n",
    "*Written by Tobias ?, Vinojan ?, Avi SZYCHTER*\n",
    "\n",
    "This notebook describes the neural network that we created in order to solve the brio labyrinth situation."
   ]
  },
  {
   "cell_type": "markdown",
   "metadata": {},
   "source": [
    "# Dependencies"
   ]
  },
  {
   "cell_type": "code",
   "execution_count": 1,
   "metadata": {},
   "outputs": [
    {
     "name": "stderr",
     "output_type": "stream",
     "text": [
      "Using TensorFlow backend.\n"
     ]
    },
    {
     "name": "stdout",
     "output_type": "stream",
     "text": [
      "Dectecting IPython...\n",
      "Matplotlib is configured to use  module://ipykernel.pylab.backend_inline\n"
     ]
    }
   ],
   "source": [
    "# Keras\n",
    "from keras.models import Model\n",
    "from keras.layers import Dense, Conv2D, Dropout, Flatten, MaxPooling2D, Input, LeakyReLU\n",
    "from keras import backend as K\n",
    "from keras.optimizers import Adam\n",
    "from keras.initializers import Constant\n",
    "\n",
    "# Other dependencies\n",
    "import numpy as np\n",
    "import matplotlib.pyplot as plt\n",
    "import time\n",
    "from net_utils import plot_result, load_data_list, visLayer\n",
    "from preprocess import augmentData, crop\n"
   ]
  },
  {
   "cell_type": "markdown",
   "metadata": {},
   "source": [
    "# Loading and generating data"
   ]
  },
  {
   "cell_type": "code",
   "execution_count": 2,
   "metadata": {
    "collapsed": true
   },
   "outputs": [],
   "source": [
    "# -- Load the data\n",
    "\n",
    "path = 'Annotated_Datasets/' # Configure to fit your file structure \n",
    "\n",
    "fileList = ['Annotated_Datasets/whole_roomANDwindowNoonlight.txt',\n",
    "           'Annotated_Datasets/whole_roomOnNoonWhiteGB.txt',\n",
    "           'Annotated_Datasets/whole_white_fromCenter.txt',\n",
    "           'Annotated_Datasets/whole_white_fromNorthEast.txt',\n",
    "           'Annotated_Datasets/whole_white_fromNorthWest.txt',\n",
    "           'Annotated_Datasets/whole_white_fromSouthWest.txt',\n",
    "           'Annotated_Datasets/whole_ledblue.txt',\n",
    "           'Annotated_Datasets/whole_ledgreen.txt']\n",
    "\n",
    "imgs_raw, anno_raw = load_data_list(path, fileList)\n"
   ]
  },
  {
   "cell_type": "code",
   "execution_count": 3,
   "metadata": {},
   "outputs": [
    {
     "name": "stdout",
     "output_type": "stream",
     "text": [
      "(120, 400, 470, 1)\n"
     ]
    }
   ],
   "source": [
    "# -- Augment the data by flipping and adjusting brightness. Also shuffle the data\n",
    "\n",
    "xmin = 180\n",
    "xmax = 650\n",
    "ymin = 50\n",
    "ymax = 450\n",
    "brightnessFactor = 20\n",
    "\n",
    "imgs_aug, anno_aug = augmentData(imgs_raw, anno_raw, xmin, xmax, ymin, ymax, brightnessFactor)\n",
    "\n",
    "print(imgs_aug.shape)"
   ]
  },
  {
   "cell_type": "code",
   "execution_count": 4,
   "metadata": {
    "collapsed": true
   },
   "outputs": [],
   "source": [
    "# -- Crop 100x100 pieces out with the ball localized somewhere random in the cropping\n",
    "res = 50\n",
    "images = []\n",
    "annotations  = []\n",
    "for i in range(len(imgs_aug)):\n",
    "    bol = 1\n",
    "    x = anno_aug[i,0].astype('uint16')\n",
    "    y = anno_aug[i,1].astype('uint16')\n",
    "    x_shift = round(np.random.uniform(-1,1)*(res-13))\n",
    "    y_shift = round(np.random.uniform(-1,1)*(res-13))\n",
    "    while bol:\n",
    "        if not (x-res+x_shift < 0 or y-res+y_shift < 0 or x+res+x_shift > (xmax-xmin) or y+res+y_shift > (ymax-ymin)):\n",
    "            img = crop(imgs_aug[i],x-res+x_shift,x+res+x_shift,y-res+y_shift,y+res+y_shift)\n",
    "            images.append(img)\n",
    "            annotations.append([res-x_shift,res-y_shift])\n",
    "            bol = 0\n",
    "        else:\n",
    "            x_shift = round(np.random.uniform(-1,1)*(res-13))\n",
    "            y_shift = round(np.random.uniform(-1,1)*(res-13))\n",
    "\n",
    "imgs_all = np.array(images)\n",
    "anno_all = np.array(annotations)"
   ]
  },
  {
   "cell_type": "code",
   "execution_count": 6,
   "metadata": {},
   "outputs": [
    {
     "data": {
      "text/plain": [
       "<matplotlib.collections.PathCollection at 0x203809a46a0>"
      ]
     },
     "execution_count": 6,
     "metadata": {},
     "output_type": "execute_result"
    },
    {
     "data": {
      "image/png": "[encoded data removed]",
      "text/plain": [
       "<matplotlib.figure.Figure at 0x203b7061f60>"
      ]
     },
     "metadata": {},
     "output_type": "display_data"
    }
   ],
   "source": [
    "# -- Validate the data augmentation by visual inspection\n",
    "image = 100\n",
    "\n",
    "fig = plt.figure()\n",
    "    \n",
    "ax = fig.add_subplot(111)\n",
    "ax.imshow(imgs_all[image,:,:,0].astype('uint8'), cmap= 'gray')\n",
    "ax.scatter(anno_all[image,0], \n",
    "           anno_all[image,1], \n",
    "           c=\"r\")"
   ]
  },
  {
   "cell_type": "code",
   "execution_count": 7,
   "metadata": {},
   "outputs": [
    {
     "name": "stdout",
     "output_type": "stream",
     "text": [
      "(96, 100, 100, 1)\n",
      "(22, 100, 100, 1)\n",
      "(2, 100, 100, 1)\n"
     ]
    }
   ],
   "source": [
    "# -- Split the data in training and validation\n",
    "splitTrainVal = round(imgs_all.shape[0]*0.80)\n",
    "\n",
    "x_train_no_norm = imgs_all[:splitTrainVal]\n",
    "x_val_no_norm = imgs_all[splitTrainVal:]\n",
    "\n",
    "y_train_no_norm = anno_all[:splitTrainVal]\n",
    "y_val_no_norm = anno_all[splitTrainVal:]\n",
    "\n",
    "print(x_train_no_norm.shape)\n",
    "print(x_val_no_norm.shape)"
   ]
  },
  {
   "cell_type": "code",
   "execution_count": 8,
   "metadata": {},
   "outputs": [
    {
     "name": "stdout",
     "output_type": "stream",
     "text": [
      "x_mean:  [84.661382060847629]\n",
      "x_std:  [37.137340776957565]\n",
      "x_train dimensions:  (96, 100, 100, 1)\n",
      "New mean of x:  [6.7489717518280185e-16]\n",
      "New std of x:  [0.99999999999999978]\n"
     ]
    }
   ],
   "source": [
    "# -- Normalize the training data\n",
    "\n",
    "x_mean = [np.mean(x_train_no_norm[:,:,:,0])]\n",
    "x_std = [np.std(x_train_no_norm[:,:,:,0])]\n",
    "print('x_mean: ',x_mean)\n",
    "print('x_std: ',x_std)\n",
    "\n",
    "x_train = x_train_no_norm - x_mean\n",
    "x_train /= x_std\n",
    "\n",
    "print('x_train dimensions: ',x_train.shape)\n",
    "print('New mean of x: ',[np.mean(x_train[:,:,:,0])])\n",
    "print('New std of x: ',[np.std(x_train[:,:,:,0])])\n"
   ]
  },
  {
   "cell_type": "code",
   "execution_count": 9,
   "metadata": {
    "collapsed": true
   },
   "outputs": [],
   "source": [
    "# -- Normalize validation data\n",
    "\n",
    "x_val = x_val_no_norm.astype('float64') - x_mean\n",
    "x_val /= x_std"
   ]
  },
  {
   "cell_type": "code",
   "execution_count": 10,
   "metadata": {
    "collapsed": true
   },
   "outputs": [],
   "source": [
    "# -- Normalize annotations\n",
    "\n",
    "y_train = y_train_no_norm / 100\n",
    "y_val = y_val_no_norm / 100"
   ]
  },
  {
   "cell_type": "markdown",
   "metadata": {},
   "source": [
    "# Defining the neural network"
   ]
  },
  {
   "cell_type": "code",
   "execution_count": null,
   "metadata": {
    "collapsed": true
   },
   "outputs": [],
   "source": [
    "# -- Initiliaze the tensorflow session and model\n",
    "model = None\n",
    "\n",
    "# -- Proposed to be necessary for running keras in jupyter\n",
    "session = K.get_session()\n",
    "if model is not None:\n",
    "    model.reset_states()"
   ]
  },
  {
   "cell_type": "code",
   "execution_count": 12,
   "metadata": {},
   "outputs": [],
   "source": [
    "# -- Dropout and leaky relu parameter\n",
    "initRelu = Constant(value=0.1)\n",
    "drop = 0.1\n",
    "\n",
    "# -- Defining the input layer\n",
    "x_input = Input(shape=(100, 100, 1))\n",
    "\n",
    "# -- Defining the convolutional layers\n",
    "x = Conv2D(12, (3, 3), padding='same', bias_initializer=initRelu)(x_input)\n",
    "x = LeakyReLU(alpha=0.1)(x)\n",
    "x = Dropout(drop)(x)\n",
    "\n",
    "x = Conv2D(12, (3, 3), padding='same', bias_initializer=initRelu)(x)\n",
    "x = LeakyReLU(alpha=0.1)(x)\n",
    "x = MaxPooling2D(pool_size=(2, 2))(x)\n",
    "x = Dropout(drop)(x)\n",
    "\n",
    "x = Conv2D(5, (3, 3), padding='same', bias_initializer=initRelu)(x)\n",
    "x = LeakyReLU(alpha=0.1)(x)\n",
    "x = Dropout(drop)(x)\n",
    "\n",
    "x = Conv2D(5, (3, 3), padding='same', bias_initializer=initRelu)(x)\n",
    "x = LeakyReLU(alpha=0.1)(x)\n",
    "x = MaxPooling2D(pool_size=(2, 2))(x)\n",
    "x = Dropout(drop)(x)\n",
    "\n",
    "x = Conv2D(5, (3, 3), padding='same', bias_initializer=initRelu)(x)\n",
    "x = LeakyReLU(alpha=0.1)(x)\n",
    "x = Dropout(drop)(x)\n",
    "\n",
    "# -- Flatten output from convolutional layers and add regression head of 4 fully connected layers\n",
    "x = Flatten()(x)\n",
    "x = Dense(120)(x)\n",
    "x = LeakyReLU(alpha=0.1)(x)\n",
    "x = Dropout(drop)(x)\n",
    "x = Dense(120)(x)\n",
    "x = LeakyReLU(alpha=0.1)(x)\n",
    "x = Dropout(drop)(x)\n",
    "x = Dense(120)(x)\n",
    "x = LeakyReLU(alpha=0.1)(x)\n",
    "x = Dropout(drop)(x)\n",
    "x = Dense(120)(x)\n",
    "x = LeakyReLU(alpha=0.1)(x)\n",
    "x = Dropout(drop)(x)\n",
    "\n",
    "# -- Define output layer \n",
    "y_out = Dense(2, activation='linear')(x)\n",
    "\n",
    "# -- Put the layers together as a model\n",
    "model = Model(inputs = x_input,outputs = y_out)\n",
    "\n",
    "print(model.summary())"
   ]
  },
  {
   "cell_type": "markdown",
   "metadata": {},
   "source": [
    "# Training the neural network"
   ]
  },
  {
   "cell_type": "code",
   "execution_count": 14,
   "metadata": {},
   "outputs": [
    {
     "name": "stdout",
     "output_type": "stream",
     "text": [
      "Train on 96 samples, validate on 22 samples\n",
      "Epoch 1/40\n",
      "96/96 [==============================] - 3s - loss: 0.3871 - val_loss: 0.1260\n",
      "Epoch 2/40\n",
      "96/96 [==============================] - 2s - loss: 0.0939 - val_loss: 0.0780\n",
      "Epoch 3/40\n",
      "96/96 [==============================] - 2s - loss: 0.0607 - val_loss: 0.0908\n",
      "Epoch 4/40\n",
      "96/96 [==============================] - 2s - loss: 0.0587 - val_loss: 0.1007\n",
      "Epoch 5/40\n",
      "96/96 [==============================] - 2s - loss: 0.0531 - val_loss: 0.0818\n",
      "Epoch 6/40\n",
      "96/96 [==============================] - 2s - loss: 0.0553 - val_loss: 0.1138\n",
      "Epoch 7/40\n",
      "96/96 [==============================] - 2s - loss: 0.0449 - val_loss: 0.0741\n",
      "Epoch 8/40\n",
      "96/96 [==============================] - 2s - loss: 0.0460 - val_loss: 0.0937\n",
      "Epoch 9/40\n",
      "96/96 [==============================] - 2s - loss: 0.0446 - val_loss: 0.0752\n",
      "Epoch 10/40\n",
      "96/96 [==============================] - 2s - loss: 0.0465 - val_loss: 0.0774\n",
      "Epoch 11/40\n",
      "96/96 [==============================] - 2s - loss: 0.0415 - val_loss: 0.0857\n",
      "Epoch 12/40\n",
      "96/96 [==============================] - 2s - loss: 0.0459 - val_loss: 0.0589\n",
      "Epoch 13/40\n",
      "96/96 [==============================] - 2s - loss: 0.0448 - val_loss: 0.0752\n",
      "Epoch 14/40\n",
      "96/96 [==============================] - 2s - loss: 0.0446 - val_loss: 0.0637\n",
      "Epoch 15/40\n",
      "96/96 [==============================] - 2s - loss: 0.0434 - val_loss: 0.0682\n",
      "Epoch 16/40\n",
      "96/96 [==============================] - 2s - loss: 0.0438 - val_loss: 0.0825\n",
      "Epoch 17/40\n",
      "96/96 [==============================] - 2s - loss: 0.0376 - val_loss: 0.0654\n",
      "Epoch 18/40\n",
      "96/96 [==============================] - 2s - loss: 0.0449 - val_loss: 0.0686\n",
      "Epoch 19/40\n",
      "96/96 [==============================] - 2s - loss: 0.0356 - val_loss: 0.0610\n",
      "Epoch 20/40\n",
      "96/96 [==============================] - 2s - loss: 0.0401 - val_loss: 0.0576\n",
      "Epoch 21/40\n",
      "96/96 [==============================] - 2s - loss: 0.0380 - val_loss: 0.0580\n",
      "Epoch 22/40\n",
      "96/96 [==============================] - 2s - loss: 0.0365 - val_loss: 0.0533\n",
      "Epoch 23/40\n",
      "96/96 [==============================] - 2s - loss: 0.0341 - val_loss: 0.0627\n",
      "Epoch 24/40\n",
      "96/96 [==============================] - 2s - loss: 0.0312 - val_loss: 0.0518\n",
      "Epoch 25/40\n",
      "96/96 [==============================] - 2s - loss: 0.0339 - val_loss: 0.0502\n",
      "Epoch 26/40\n",
      "96/96 [==============================] - 2s - loss: 0.0318 - val_loss: 0.0640\n",
      "Epoch 27/40\n",
      "96/96 [==============================] - 2s - loss: 0.0328 - val_loss: 0.0586\n",
      "Epoch 28/40\n",
      "96/96 [==============================] - 2s - loss: 0.0270 - val_loss: 0.0567\n",
      "Epoch 29/40\n",
      "96/96 [==============================] - 2s - loss: 0.0265 - val_loss: 0.0500\n",
      "Epoch 30/40\n",
      "96/96 [==============================] - 2s - loss: 0.0290 - val_loss: 0.0672\n",
      "Epoch 31/40\n",
      "96/96 [==============================] - 2s - loss: 0.0270 - val_loss: 0.0489\n",
      "Epoch 32/40\n",
      "96/96 [==============================] - 2s - loss: 0.0278 - val_loss: 0.0516\n",
      "Epoch 33/40\n",
      "96/96 [==============================] - 2s - loss: 0.0223 - val_loss: 0.0669\n",
      "Epoch 34/40\n",
      "96/96 [==============================] - 2s - loss: 0.0282 - val_loss: 0.0530\n",
      "Epoch 35/40\n",
      "96/96 [==============================] - 2s - loss: 0.0224 - val_loss: 0.0549\n",
      "Epoch 36/40\n",
      "96/96 [==============================] - 2s - loss: 0.0210 - val_loss: 0.0486\n",
      "Epoch 37/40\n",
      "96/96 [==============================] - 2s - loss: 0.0260 - val_loss: 0.0456\n",
      "Epoch 38/40\n",
      "96/96 [==============================] - 2s - loss: 0.0221 - val_loss: 0.0439\n",
      "Epoch 39/40\n",
      "96/96 [==============================] - 2s - loss: 0.0242 - val_loss: 0.0433\n",
      "Epoch 40/40\n",
      "96/96 [==============================] - 2s - loss: 0.0230 - val_loss: 0.0425\n"
     ]
    }
   ],
   "source": [
    "# -- Define the optimiser for the training\n",
    "optim = Adam(lr=0.001, beta_1=0.9, beta_2=0.999, epsilon=1e-08, decay=0.0)\n",
    "\n",
    "# -- Compile the model\n",
    "model.compile(optimizer=optim, loss='mse')\n",
    "\n",
    "# -- Train the model\n",
    "train_history = model.fit(x_train,y_train, epochs=40, validation_data=(x_val,y_val))"
   ]
  },
  {
   "cell_type": "code",
   "execution_count": 16,
   "metadata": {},
   "outputs": [
    {
     "data": {
      "image/png": "[encoded data removed]",
      "text/plain": [
       "<matplotlib.figure.Figure at 0x20380b53240>"
      ]
     },
     "metadata": {},
     "output_type": "display_data"
    }
   ],
   "source": [
    "# -- Show the training and validation loss\n",
    "plt.plot(train_history.history['loss'])\n",
    "plt.plot(train_history.history['val_loss'])\n",
    "plt.show()"
   ]
  },
  {
   "cell_type": "code",
   "execution_count": 20,
   "metadata": {},
   "outputs": [
    {
     "name": "stdout",
     "output_type": "stream",
     "text": [
      "Train on 96 samples, validate on 22 samples\n",
      "Epoch 1/40\n",
      "96/96 [==============================] - 2s - loss: 0.0080 - val_loss: 0.0438\n",
      "Epoch 2/40\n",
      "96/96 [==============================] - 2s - loss: 0.0078 - val_loss: 0.0474\n",
      "Epoch 3/40\n",
      "96/96 [==============================] - 2s - loss: 0.0084 - val_loss: 0.0463\n",
      "Epoch 4/40\n",
      "96/96 [==============================] - 2s - loss: 0.0100 - val_loss: 0.0443\n",
      "Epoch 5/40\n",
      "96/96 [==============================] - 2s - loss: 0.0076 - val_loss: 0.0467\n",
      "Epoch 6/40\n",
      "96/96 [==============================] - 2s - loss: 0.0086 - val_loss: 0.0450\n",
      "Epoch 7/40\n",
      "96/96 [==============================] - 2s - loss: 0.0076 - val_loss: 0.0448\n",
      "Epoch 8/40\n",
      "96/96 [==============================] - 2s - loss: 0.0084 - val_loss: 0.0490\n",
      "Epoch 9/40\n",
      "96/96 [==============================] - 2s - loss: 0.0072 - val_loss: 0.0491\n",
      "Epoch 10/40\n",
      "96/96 [==============================] - 2s - loss: 0.0063 - val_loss: 0.0472\n",
      "Epoch 11/40\n",
      "96/96 [==============================] - 2s - loss: 0.0084 - val_loss: 0.0475\n",
      "Epoch 12/40\n",
      "96/96 [==============================] - 2s - loss: 0.0072 - val_loss: 0.0491\n",
      "Epoch 13/40\n",
      "96/96 [==============================] - 2s - loss: 0.0067 - val_loss: 0.0465\n",
      "Epoch 14/40\n",
      "96/96 [==============================] - 2s - loss: 0.0071 - val_loss: 0.0439\n",
      "Epoch 15/40\n",
      "96/96 [==============================] - 2s - loss: 0.0080 - val_loss: 0.0455\n",
      "Epoch 16/40\n",
      "96/96 [==============================] - 2s - loss: 0.0075 - val_loss: 0.0475\n",
      "Epoch 17/40\n",
      "96/96 [==============================] - 2s - loss: 0.0059 - val_loss: 0.0444\n",
      "Epoch 18/40\n",
      "96/96 [==============================] - 2s - loss: 0.0073 - val_loss: 0.0425\n",
      "Epoch 19/40\n",
      "96/96 [==============================] - 2s - loss: 0.0084 - val_loss: 0.0446\n",
      "Epoch 20/40\n",
      "96/96 [==============================] - 2s - loss: 0.0063 - val_loss: 0.0444\n",
      "Epoch 21/40\n",
      "96/96 [==============================] - 2s - loss: 0.0060 - val_loss: 0.0437\n",
      "Epoch 22/40\n",
      "96/96 [==============================] - 2s - loss: 0.0058 - val_loss: 0.0445\n",
      "Epoch 23/40\n",
      "96/96 [==============================] - 2s - loss: 0.0056 - val_loss: 0.0474\n",
      "Epoch 24/40\n",
      "96/96 [==============================] - 2s - loss: 0.0062 - val_loss: 0.0458\n",
      "Epoch 25/40\n",
      "96/96 [==============================] - 2s - loss: 0.0068 - val_loss: 0.0407\n",
      "Epoch 26/40\n",
      "96/96 [==============================] - 2s - loss: 0.0061 - val_loss: 0.0391\n",
      "Epoch 27/40\n",
      "96/96 [==============================] - 2s - loss: 0.0055 - val_loss: 0.0416\n",
      "Epoch 28/40\n",
      "96/96 [==============================] - 2s - loss: 0.0057 - val_loss: 0.0449\n",
      "Epoch 29/40\n",
      "96/96 [==============================] - 2s - loss: 0.0063 - val_loss: 0.0450\n",
      "Epoch 30/40\n",
      "96/96 [==============================] - 2s - loss: 0.0064 - val_loss: 0.0448\n",
      "Epoch 31/40\n",
      "96/96 [==============================] - 2s - loss: 0.0062 - val_loss: 0.0450\n",
      "Epoch 32/40\n",
      "96/96 [==============================] - 2s - loss: 0.0052 - val_loss: 0.0457\n",
      "Epoch 33/40\n",
      "96/96 [==============================] - 2s - loss: 0.0063 - val_loss: 0.0438\n",
      "Epoch 34/40\n",
      "96/96 [==============================] - 2s - loss: 0.0060 - val_loss: 0.0433\n",
      "Epoch 35/40\n",
      "96/96 [==============================] - 2s - loss: 0.0069 - val_loss: 0.0444\n",
      "Epoch 36/40\n",
      "96/96 [==============================] - 2s - loss: 0.0046 - val_loss: 0.0460\n",
      "Epoch 37/40\n",
      "96/96 [==============================] - 2s - loss: 0.0060 - val_loss: 0.0451\n",
      "Epoch 38/40\n",
      "96/96 [==============================] - 2s - loss: 0.0056 - val_loss: 0.0424\n",
      "Epoch 39/40\n",
      "96/96 [==============================] - 2s - loss: 0.0050 - val_loss: 0.0417\n",
      "Epoch 40/40\n",
      "96/96 [==============================] - 2s - loss: 0.0053 - val_loss: 0.0437\n"
     ]
    }
   ],
   "source": [
    "# -- Train further\n",
    "train_history = model.fit(x_train,y_train, epochs=40, validation_data=(x_val,y_val))"
   ]
  },
  {
   "cell_type": "code",
   "execution_count": null,
   "metadata": {
    "collapsed": true
   },
   "outputs": [],
   "source": [
    "# -- Show the training and validation loss\n",
    "plt.plot(train_history.history['loss'])\n",
    "plt.plot(train_history.history['val_loss'])\n",
    "plt.show()"
   ]
  },
  {
   "cell_type": "code",
   "execution_count": null,
   "metadata": {
    "collapsed": true
   },
   "outputs": [],
   "source": [
    "# -- Train further\n",
    "train_history = model.fit(x_train,y_train, epochs=500, validation_data=(x_val,y_val))"
   ]
  },
  {
   "cell_type": "code",
   "execution_count": null,
   "metadata": {
    "collapsed": true
   },
   "outputs": [],
   "source": [
    "# -- Show the training and validation loss\n",
    "plt.plot(train_history.history['loss'])\n",
    "plt.plot(train_history.history['val_loss'])\n",
    "plt.show()"
   ]
  },
  {
   "cell_type": "code",
   "execution_count": null,
   "metadata": {
    "collapsed": true
   },
   "outputs": [],
   "source": [
    "# -- Save the model\n",
    "model.save('Model_small.h5')"
   ]
  },
  {
   "cell_type": "markdown",
   "metadata": {},
   "source": [
    "# Evaluating the model"
   ]
  },
  {
   "cell_type": "code",
   "execution_count": 21,
   "metadata": {
    "collapsed": true
   },
   "outputs": [],
   "source": [
    "# -- Load data for evaluation (annotated more precise)\n",
    "imgs_for_test, anno_for_test = load_data_list(path, ['Annotated_Datasets/whole_ledred.txt'])\n",
    "\n",
    "# -- Augment the data by flipping and adjusting brightness. Also shuffle the data\n",
    "xmin = 180\n",
    "xmax = 650\n",
    "ymin = 50\n",
    "ymax = 450\n",
    "brightnessFactor = 20\n",
    "\n",
    "imgs_aug_t, anno_aug_t = augmentData(imgs_for_test, anno_for_test, xmin, xmax, ymin, ymax, brightnessFactor)\n",
    "\n",
    "# -- Crop 100x100 pieces out\n",
    "res = 50\n",
    "images = []\n",
    "annotations  = []\n",
    "for i in range(len(imgs_aug_t)):\n",
    "    bol = 1\n",
    "    x = anno_aug_t[i,0].astype('uint16')\n",
    "    y = anno_aug_t[i,1].astype('uint16')\n",
    "    x_shift = round(np.random.uniform(-1,1)*(res-13))\n",
    "    y_shift = round(np.random.uniform(-1,1)*(res-13))\n",
    "    while bol:\n",
    "        if not (x-res+x_shift < 0 or y-res+y_shift < 0 or x+res+x_shift > (xmax-xmin) or y+res+y_shift > (ymax-ymin)):\n",
    "            img = crop(imgs_aug_t[i],x-res+x_shift,x+res+x_shift,y-res+y_shift,y+res+y_shift)\n",
    "            images.append(img)\n",
    "            annotations.append([res-x_shift,res-y_shift])\n",
    "            bol = 0\n",
    "        else:\n",
    "            x_shift = round(np.random.uniform(-1,1)*(res-13))\n",
    "            y_shift = round(np.random.uniform(-1,1)*(res-13))\n",
    "\n",
    "imgs_test = np.array(images)\n",
    "anno_test = np.array(annotations)\n",
    "\n",
    "# -- Normalize data\n",
    "imgs_test_norm = imgs_test.astype('float64') - x_mean\n",
    "imgs_test_norm /= x_std\n",
    "\n",
    "# -- Make predictions on data\n",
    "predicts = model.predict_on_batch(imgs_test_norm)"
   ]
  },
  {
   "cell_type": "code",
   "execution_count": null,
   "metadata": {
    "collapsed": true
   },
   "outputs": [],
   "source": [
    "# -- Test the time it takes to make a prediction\n",
    "sample = imgs_test_norm[0]\n",
    "tick1 = time.clock()\n",
    "model.predict(sample)\n",
    "tick2 = time.clock()\n",
    "\n",
    "print(tick2-tick1)"
   ]
  },
  {
   "cell_type": "code",
   "execution_count": 22,
   "metadata": {},
   "outputs": [
    {
     "name": "stdout",
     "output_type": "stream",
     "text": [
      "0  Actual pos:   [ 41.  74.]\n",
      "0  Predicted pos [ 55.90547943  43.19712067]\n",
      " \n",
      "1  Actual pos:   [ 33.  65.]\n",
      "1  Predicted pos [ 51.57804489  30.9131794 ]\n",
      " \n",
      "51.7498370213\n"
     ]
    }
   ],
   "source": [
    "# -- Print the predicted and actual positions and calculate the standard deviation in pixels\n",
    "losses = []\n",
    "\n",
    "for i in range(len(x_test)):\n",
    "    print(i, ' Actual pos:  ', y_test[i]*100)\n",
    "    print(i, ' Predicted pos', predicts[i]*100)\n",
    "    print(' ')\n",
    "    lossX2 = (y_test[i,0]*100-predicts[i,0]*100)**2\n",
    "    lossY2 = (y_test[i,1]*100-predicts[i,1]*100)**2\n",
    "    losses.append(lossX2 + lossY2)\n",
    "    \n",
    "std = (np.sum(losses)/(len(losses)-1))**(0.5)"
   ]
  },
  {
   "cell_type": "code",
   "execution_count": null,
   "metadata": {
    "collapsed": true
   },
   "outputs": [],
   "source": [
    "# -- Print the standard deviation\n",
    "print(std)"
   ]
  },
  {
   "cell_type": "code",
   "execution_count": null,
   "metadata": {
    "collapsed": true
   },
   "outputs": [],
   "source": [
    "# -- Print the highest error in pixels\n",
    "print((np.amax(losses))**(0.5))"
   ]
  },
  {
   "cell_type": "code",
   "execution_count": null,
   "metadata": {
    "collapsed": true
   },
   "outputs": [],
   "source": [
    "# -- Visualise convolutional layers\n",
    "layer = 16\n",
    "\n",
    "model2 = Model(inputs = model.input, outputs = model.layers[layer].output)\n",
    "img = model2.predict(x_test)\n",
    "\n",
    "for i in range(5):\n",
    "\n",
    "    fig = plt.figure()\n",
    "\n",
    "    ax = fig.add_subplot(111, title = model2.layers[layer].name + ' filter:' + str(i))\n",
    "    ax.imshow(img[0,:,:,i], cmap='gray')"
   ]
  },
  {
   "cell_type": "code",
   "execution_count": null,
   "metadata": {
    "collapsed": true
   },
   "outputs": [],
   "source": [
    "# -- Visual validation of model\n",
    "image = np.argmax(losses)\n",
    "\n",
    "fig = plt.figure()\n",
    "    \n",
    "ax = fig.add_subplot(111)\n",
    "ax.imshow((imgs_test_norm[image,:,:,0]*x_std+x_mean).astype('uint8'), cmap= 'gray')\n",
    "ax.scatter(predicts[image,0]*100, \n",
    "           predicts[image,1]*100, \n",
    "           c=\"r\")\n"
   ]
  }
 ],
 "metadata": {
  "kernelspec": {
   "display_name": "Python 3",
   "language": "python",
   "name": "python3"
  },
  "language_info": {
   "codemirror_mode": {
    "name": "ipython",
    "version": 3
   },
   "file_extension": ".py",
   "mimetype": "text/x-python",
   "name": "python",
   "nbconvert_exporter": "python",
   "pygments_lexer": "ipython3",
   "version": "3.6.1"
  }
 },
 "nbformat": 4,
 "nbformat_minor": 2
}
