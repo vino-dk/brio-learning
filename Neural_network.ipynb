{
 "cells": [
  {
   "cell_type": "code",
   "execution_count": 1,
   "metadata": {},
   "outputs": [
    {
     "name": "stderr",
     "output_type": "stream",
     "text": [
      "Using TensorFlow backend.\n"
     ]
    }
   ],
   "source": [
    "from keras.applications.inception_v3 import InceptionV3\n",
    "from keras.models import Sequential, Model\n",
    "from keras.layers import Dense, Activation\n",
    "from keras import backend as K\n",
    "import numpy as np\n",
    "\n",
    "from read_dataset import load_dataset\n",
    "\n",
    "model = None\n",
    "\n",
    "session = K.get_session()\n",
    "if model is not None:\n",
    "    model.reset_states()"
   ]
  },
  {
   "cell_type": "code",
   "execution_count": 2,
   "metadata": {
    "collapsed": true
   },
   "outputs": [],
   "source": [
    "import os\n",
    "from scipy import misc"
   ]
  },
  {
   "cell_type": "code",
   "execution_count": 3,
   "metadata": {},
   "outputs": [],
   "source": [
    "#path = 'C:/Users/Bruger/north_center'\n",
    "\n",
    "#image= misc.imread(os.path.join(path,'laby_normal_north_center_5.bmp'), flatten= 0)\n",
    "\n",
    "#print(image.shape)\n"
   ]
  },
  {
   "cell_type": "code",
   "execution_count": null,
   "metadata": {},
   "outputs": [],
   "source": [
    "#imgs = []\n",
    "path = 'C:/Users/Bruger/north_center'\n",
    "#valid_images = ['.bmp']\n",
    "#for f in os.listdir(path):\n",
    "#    ext = os.path.splitext(f)[1]\n",
    "#    if ext.lower() not in valid_images:\n",
    "#        continue\n",
    "#    imgs.append(misc.imread(os.path.join(path,f)))"
   ]
  },
  {
   "cell_type": "code",
   "execution_count": null,
   "metadata": {},
   "outputs": [],
   "source": [
    "dataset = load_dataset('data.txt',path)\n",
    "imgs = []\n",
    "coords = []\n",
    "for img, coord in dataset:\n",
    "        imgs.append(img)\n",
    "        coords.append(coords)\n",
    "        \n",
    "x_train = np.array(imgs)\n",
    "x_train.shape\n",
    "\n",
    "y_train = np.array(coords)\n",
    "y_train.shape\n"
   ]
  },
  {
   "cell_type": "code",
   "execution_count": null,
   "metadata": {},
   "outputs": [],
   "source": [
    "# Instantiating the inception network\n",
    "\n",
    "inception = InceptionV3(include_top=False,weights='imagenet',input_tensor=None,input_shape=(480, 752, 3),pooling='avg')\n",
    "\n"
   ]
  },
  {
   "cell_type": "code",
   "execution_count": null,
   "metadata": {},
   "outputs": [],
   "source": [
    "# Adding a fully connected output layer with 2 units\n",
    "\n",
    "x = inception.output\n",
    "\n",
    "aDense = Dense(2,activation='linear')(x)\n",
    "\n",
    "model = Model(inputs=inception.input, outputs=aDense)\n",
    "\n",
    "for layer in inception.layers:\n",
    "    layer.trainable = False\n",
    "\n",
    "print(model.summary())\n",
    "\n",
    "model.compile(loss='categorical_crossentropy',\n",
    "              optimizer='sgd',\n",
    "              metrics=['accuracy'])\n",
    "\n"
   ]
  },
  {
   "cell_type": "code",
   "execution_count": null,
   "metadata": {
    "collapsed": true
   },
   "outputs": [],
   "source": [
    "train_history = model.fit(x_train,y_train)"
   ]
  }
 ],
 "metadata": {
  "kernelspec": {
   "display_name": "Python 3",
   "language": "python",
   "name": "python3"
  },
  "language_info": {
   "codemirror_mode": {
    "name": "ipython",
    "version": 3
   },
   "file_extension": ".py",
   "mimetype": "text/x-python",
   "name": "python",
   "nbconvert_exporter": "python",
   "pygments_lexer": "ipython3",
   "version": "3.6.1"
  }
 },
 "nbformat": 4,
 "nbformat_minor": 2
}
